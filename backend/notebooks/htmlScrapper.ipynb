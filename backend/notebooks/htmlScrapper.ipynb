{
 "cells": [
  {
   "cell_type": "code",
   "execution_count": 1,
   "id": "f913da49-4d41-4f6f-9e0e-59146bee5ed2",
   "metadata": {},
   "outputs": [],
   "source": [
    "from bs4 import BeautifulSoup\n",
    "import pandas as pd\n",
    "\n",
    "with open('../data/raw/1year_5g_mobile_details.html', 'r', encoding='utf-8') as file:\n",
    "    html_content = file.read()\n",
    "\n",
    "# Parsing HTML File\n",
    "soup = BeautifulSoup(html_content, 'html.parser')\n",
    "\n",
    "data = []\n",
    "for product in soup.find_all('div', class_='sm-product'):\n",
    "    # Extract brand and other details\n",
    "    name_element = product.find('a', class_='name clamp-2')\n",
    "    name = name_element.h2.text.split(' ')[0].strip() if name_element else None\n",
    "\n",
    "    price_element = product.find('span', class_='price')\n",
    "    price = int(price_element.text.replace('₹', '').replace(',', '').strip()) if price_element else None\n",
    "\n",
    "    specs = product.find('ul', class_='sm-feat specs')\n",
    "    if specs:\n",
    "        details = specs.find_all('li')\n",
    "        try:\n",
    "            screen_size = float(details[4].text.split(',')[0].split(' ')[0].strip())\n",
    "            ram_rom = details[2].text.split(',')\n",
    "            ram = int(ram_rom[0].split('G')[0].strip())\n",
    "            romExtract = lambda x: int(float(x.strip().split()[0]) * (1024 if 'TB' in x.upper() else 1))\n",
    "            rom = romExtract(ram_rom[1].split('inbuilt')[0].strip())\n",
    "            front_camera = float(details[5].text.split('&')[1].split('M')[0].strip())\n",
    "            back_camera = int(details[5].text.split('&')[0].split('+')[0].split('M')[0].strip())\n",
    "            battery = int(details[3].text.split('m')[0].strip())\n",
    "            spec_score = int(product.find('div', class_='tags').find('b').text.strip())\n",
    "        except IndexError:\n",
    "            continue\n",
    "    else:\n",
    "        continue\n",
    "\n",
    "    data.append({\n",
    "        'Brand': name,\n",
    "        'Price (Rs.)': price,\n",
    "        'Screen Size (in)': screen_size,\n",
    "        'Front Camera (MP)': front_camera,\n",
    "        'Back Camera (MP)': back_camera,\n",
    "        'Battery (mAh)': battery,\n",
    "        'RAM (GB)': ram,\n",
    "        'ROM (GB)': rom,\n",
    "        'Spec Score': spec_score\n",
    "    })\n",
    "\n",
    "# Creating dataframe\n",
    "df = pd.DataFrame(data)\n",
    "\n",
    "output_csv_path = '../data/processed/5g_smartphones_dataset.csv'\n",
    "df.to_csv(output_csv_path, index=False)"
   ]
  },
  {
   "cell_type": "code",
   "execution_count": null,
   "id": "3154951c-2ebc-4e7b-80d1-5673f8144ff6",
   "metadata": {},
   "outputs": [],
   "source": []
  }
 ],
 "metadata": {
  "kernelspec": {
   "display_name": "Python 3",
   "language": "python",
   "name": "python3"
  },
  "language_info": {
   "codemirror_mode": {
    "name": "ipython",
    "version": 3
   },
   "file_extension": ".py",
   "mimetype": "text/x-python",
   "name": "python",
   "nbconvert_exporter": "python",
   "pygments_lexer": "ipython3",
   "version": "3.11.5"
  }
 },
 "nbformat": 4,
 "nbformat_minor": 5
}
